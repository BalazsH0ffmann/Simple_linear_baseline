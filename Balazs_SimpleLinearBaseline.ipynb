{
 "cells": [
  {
   "cell_type": "code",
   "execution_count": 1,
   "id": "f761e5b1",
   "metadata": {
    "ExecuteTime": {
     "end_time": "2021-08-07T08:40:52.882200Z",
     "start_time": "2021-08-07T08:40:51.458373Z"
    }
   },
   "outputs": [],
   "source": [
    "# This Python 3 environment comes with many helpful analytics libraries installed\n",
    "# It is defined by the kaggle/python Docker image: https://github.com/kaggle/docker-python\n",
    "# For example, here's several helpful packages to load\n",
    "\n",
    "import numpy as np # linear algebra\n",
    "import pandas as pd # data processing, CSV file I/O (e.g. pd.read_csv)\n",
    "from sklearn.linear_model import Ridge\n",
    "from sklearn.metrics import mean_squared_error\n",
    "from sklearn.model_selection import KFold\n",
    "\n",
    "\n",
    "# Input data files are available in the read-only \"../input/\" directory\n",
    "# For example, running this (by clicking run or pressing Shift+Enter) will list all files under the input directory\n",
    "\n",
    "\n"
   ]
  },
  {
   "cell_type": "code",
   "execution_count": 3,
   "id": "79cb1bdf",
   "metadata": {
    "ExecuteTime": {
     "end_time": "2021-08-07T08:41:37.283702Z",
     "start_time": "2021-08-07T08:41:28.615333Z"
    }
   },
   "outputs": [],
   "source": [
    "sample_submission = pd.read_csv(r'/mnt/c/Users/Gebruiker/Desktop/Github/sample_submission.csv')\n",
    "train = pd.read_csv(r'/mnt/c/Users/Gebruiker/Desktop/Github/train.csv')\n",
    "test = pd.read_csv(r'/mnt/c/Users/Gebruiker/Desktop/Github/test.csv')"
   ]
  },
  {
   "cell_type": "code",
   "execution_count": null,
   "id": "a5c6a62c",
   "metadata": {},
   "outputs": [],
   "source": [
    "sample_submission.head()"
   ]
  },
  {
   "cell_type": "code",
   "execution_count": null,
   "id": "fd723dd1",
   "metadata": {},
   "outputs": [],
   "source": [
    "train.head()"
   ]
  },
  {
   "cell_type": "code",
   "execution_count": null,
   "id": "b9737f75",
   "metadata": {},
   "outputs": [],
   "source": [
    "test.head()"
   ]
  },
  {
   "cell_type": "code",
   "execution_count": null,
   "id": "92880e81",
   "metadata": {},
   "outputs": [],
   "source": [
    "columns = test.columns[1:]\n",
    "columns"
   ]
  },
  {
   "cell_type": "code",
   "execution_count": null,
   "id": "bf1d18e1",
   "metadata": {},
   "outputs": [],
   "source": [
    "X = train[columns].values\n",
    "X_test = test[columns].values\n",
    "target = train['loss'].values.reshape(-1,1)"
   ]
  },
  {
   "cell_type": "code",
   "execution_count": null,
   "id": "0f7fba33",
   "metadata": {},
   "outputs": [],
   "source": [
    "target.min()\n"
   ]
  },
  {
   "cell_type": "code",
   "execution_count": null,
   "id": "297eafd0",
   "metadata": {},
   "outputs": [],
   "source": [
    "target.max()"
   ]
  },
  {
   "cell_type": "code",
   "execution_count": null,
   "id": "4aec1a1e",
   "metadata": {},
   "outputs": [],
   "source": [
    "train_oof = np.zeros((train.shape[0],))\n",
    "test_preds = np.zeros((test.shape[0],))\n",
    "train_oof.shape"
   ]
  },
  {
   "cell_type": "code",
   "execution_count": null,
   "id": "09342a31",
   "metadata": {},
   "outputs": [],
   "source": [
    "test_preds.shape"
   ]
  },
  {
   "cell_type": "code",
   "execution_count": null,
   "id": "2be2f110",
   "metadata": {},
   "outputs": [],
   "source": [
    "%%time\n",
    "n_splits = 5\n",
    "kf = KFold(n_splits=n_splits, random_state=137, shuffle=True)\n",
    "\n",
    "for jj, (train_index, val_index) in enumerate(kf.split(train)):\n",
    "    print(\"Fitting fold\", jj+1)\n",
    "    train_features = X[train_index]\n",
    "    train_target = target[train_index]\n",
    "\n",
    "    \n",
    "    val_features = X[val_index]\n",
    "    val_target = target[val_index]\n",
    "\n",
    "    \n",
    "    model = Ridge(alpha=0.75)\n",
    "    model.fit(train_features, train_target)\n",
    "    val_pred = model.predict(val_features)\n",
    "    train_oof[val_index] = val_pred.flatten()\n",
    "    test_preds += model.predict(X_test).flatten()/n_splits\n",
    "  "
   ]
  },
  {
   "cell_type": "code",
   "execution_count": null,
   "id": "c340a1a1",
   "metadata": {},
   "outputs": [],
   "source": [
    "mean_squared_error(target,train_oof, squared=False)"
   ]
  },
  {
   "cell_type": "code",
   "execution_count": null,
   "id": "622cb437",
   "metadata": {},
   "outputs": [],
   "source": [
    "sample_submission['loss'] = test_preds\n",
    "sample_submission.to_csv('submission.csv', index=False)\n",
    "sample_submission.head()"
   ]
  }
 ],
 "metadata": {
  "kernelspec": {
   "display_name": "Python 3",
   "language": "python",
   "name": "python3"
  },
  "language_info": {
   "codemirror_mode": {
    "name": "ipython",
    "version": 3
   },
   "file_extension": ".py",
   "mimetype": "text/x-python",
   "name": "python",
   "nbconvert_exporter": "python",
   "pygments_lexer": "ipython3",
   "version": "3.8.5"
  },
  "toc": {
   "base_numbering": 1,
   "nav_menu": {},
   "number_sections": true,
   "sideBar": true,
   "skip_h1_title": false,
   "title_cell": "Table of Contents",
   "title_sidebar": "Contents",
   "toc_cell": false,
   "toc_position": {},
   "toc_section_display": true,
   "toc_window_display": false
  },
  "varInspector": {
   "cols": {
    "lenName": 16,
    "lenType": 16,
    "lenVar": 40
   },
   "kernels_config": {
    "python": {
     "delete_cmd_postfix": "",
     "delete_cmd_prefix": "del ",
     "library": "var_list.py",
     "varRefreshCmd": "print(var_dic_list())"
    },
    "r": {
     "delete_cmd_postfix": ") ",
     "delete_cmd_prefix": "rm(",
     "library": "var_list.r",
     "varRefreshCmd": "cat(var_dic_list()) "
    }
   },
   "types_to_exclude": [
    "module",
    "function",
    "builtin_function_or_method",
    "instance",
    "_Feature"
   ],
   "window_display": false
  }
 },
 "nbformat": 4,
 "nbformat_minor": 5
}
